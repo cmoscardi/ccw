{
 "cells": [
  {
   "cell_type": "markdown",
   "metadata": {},
   "source": [
    "## Purpose\n",
    "This notebook is just meant to scrape the air quality dataset"
   ]
  },
  {
   "cell_type": "code",
   "execution_count": 12,
   "metadata": {
    "collapsed": true
   },
   "outputs": [],
   "source": [
    "import requests\n",
    "POSTCODES = {\"GN4\", \n",
    "             \"BX2\", \n",
    "             \"WA9\", \n",
    "             \"MY7\", \n",
    "             \"HR1\", \n",
    "             \"LB5\", \n",
    "             \"KC5\", \n",
    "             \"TH2\", \n",
    "             \"BQ5\", \n",
    "             \"TD5\", \n",
    "             \"CD1\", \n",
    "             \"RI1\", \n",
    "             \"GR7\", \n",
    "             \"ME2\", \n",
    "             \"ST3\", \n",
    "             \"HV1\", \n",
    "             \"BQ6\", \n",
    "             \"LW1\", \n",
    "             \"HG1\", \n",
    "             \"BX9\", \n",
    "             \"ME1\", \n",
    "             \"TD0\", \n",
    "             \"CR5\", \n",
    "             \"KT3\", \n",
    "             \"NB1\", \n",
    "             \"CT6\", \n",
    "             \"WM6\", \n",
    "             \"BX0\", \n",
    "             \"WAA\", \n",
    "             \"GN2\", \n",
    "             \"GB0\", \n",
    "             \"BT6\", \n",
    "             \"BG1\", \n",
    "             \"EA6\", \n",
    "             \"GR5\", \n",
    "             \"GR4\", \n",
    "             \"WM0\", \n",
    "             \"HV3\", \n",
    "             \"CT2\", \n",
    "             \"LB6\", \"KC2\", \"EN7\", \"RB4\", \"WAB\", \"CT8\", \"KC3\", \"EI1\", \"LW4\", \"EN5\", \"GB6\", \"KC7\", \"IS6\", \"CR8\", \"CD9\", \"RB7\", \"TH6\", \"EN4\", \"IM1\", \"LW3\", \"ST5\", \"CR9\", \"GR9\", \"CT3\", \"WA7\", \"MY1\", \"LH0\", \"BQ7\", \"ME7\", \"HI0\", \"SK6\", \"HG4\", \"HF4\", \"WM8\", \"KC4\", \"EI8\", \"KT4\", \"CD3\", \"RI2\", \"BG2\", \"BX1\", \"BL0\", \"GR8\", \"KC1\", \"EN1\", \"BT4\", \"HR2\", \"HK6\", \"LB4\", \"TH4\", \"WA8\", \"WA2\", \"BQ8\", \"ST6\", \"ST8\", \"IS2\", \"GN0\", \"LW2\", \"SK5\", \"GN3\", \"CR7\", \"ST4\", \"EA8\", \"CT4\", \"TH5\", \"BT5\"}"
   ]
  },
  {
   "cell_type": "code",
   "execution_count": 2,
   "metadata": {
    "collapsed": false
   },
   "outputs": [],
   "source": [
    "old_size = len(POSTCODES)\n",
    "code = next(iter(POSTCODES))\n",
    "new_size = len(POSTCODES)\n",
    "assert old_size == new_size"
   ]
  },
  {
   "cell_type": "code",
   "execution_count": 73,
   "metadata": {
    "collapsed": false
   },
   "outputs": [],
   "source": [
    "import string\n",
    "import joblib\n",
    "\n",
    "BASE_URL =\"http://api.erg.kcl.ac.uk/AirQuality/Data/Site/SiteCode={code}/StartDate={start}-{start_month}-01-1200/EndDate={end}-{end_month}-01-1200/Json\"\n",
    "mem = joblib.Memory(cachedir=\"data\")\n",
    "def scrape_info(postcode, start, end, start_month, end_month):\n",
    "    retries = 3\n",
    "    page = requests.get(BASE_URL.format(start=start, end=end, code=postcode, start_month=start_month, end_month=end_month))\n",
    "    if page.status_code == 400 and 'timeout' in page.text.lower():\n",
    "        # just do a single retry\n",
    "        page = requests.get(BASE_URL.format(start=start, \n",
    "                                            end=end, \n",
    "                                            code=postcode,\n",
    "                                            start_month=start_month,\n",
    "                                            end_month=end_month))\n",
    "    \n",
    "    page.raise_for_status()\n",
    "    return page.json()\n",
    "\n",
    "scrape_mem = mem.cache(scrape_info)\n",
    "\n",
    "def get_info_for_code(code):\n",
    "    scrape_mem(code, 2017, 2017, \"01\", \"08\")"
   ]
  },
  {
   "cell_type": "code",
   "execution_count": 74,
   "metadata": {
    "collapsed": false
   },
   "outputs": [],
   "source": [
    "p = joblib.Parallel(n_jobs=5)"
   ]
  },
  {
   "cell_type": "code",
   "execution_count": 76,
   "metadata": {
    "collapsed": false,
    "scrolled": true
   },
   "outputs": [
    {
     "data": {
      "text/plain": [
       "[None,\n",
       " None,\n",
       " None,\n",
       " None,\n",
       " None,\n",
       " None,\n",
       " None,\n",
       " None,\n",
       " None,\n",
       " None,\n",
       " None,\n",
       " None,\n",
       " None,\n",
       " None,\n",
       " None,\n",
       " None,\n",
       " None,\n",
       " None,\n",
       " None,\n",
       " None,\n",
       " None,\n",
       " None,\n",
       " None,\n",
       " None,\n",
       " None,\n",
       " None,\n",
       " None,\n",
       " None,\n",
       " None,\n",
       " None,\n",
       " None,\n",
       " None,\n",
       " None,\n",
       " None,\n",
       " None,\n",
       " None,\n",
       " None,\n",
       " None,\n",
       " None,\n",
       " None,\n",
       " None,\n",
       " None,\n",
       " None,\n",
       " None,\n",
       " None,\n",
       " None,\n",
       " None,\n",
       " None,\n",
       " None,\n",
       " None,\n",
       " None,\n",
       " None,\n",
       " None,\n",
       " None,\n",
       " None,\n",
       " None,\n",
       " None,\n",
       " None,\n",
       " None,\n",
       " None,\n",
       " None,\n",
       " None,\n",
       " None,\n",
       " None,\n",
       " None,\n",
       " None,\n",
       " None,\n",
       " None,\n",
       " None,\n",
       " None,\n",
       " None,\n",
       " None,\n",
       " None,\n",
       " None,\n",
       " None,\n",
       " None,\n",
       " None,\n",
       " None,\n",
       " None,\n",
       " None,\n",
       " None,\n",
       " None,\n",
       " None,\n",
       " None,\n",
       " None,\n",
       " None,\n",
       " None,\n",
       " None,\n",
       " None,\n",
       " None,\n",
       " None,\n",
       " None,\n",
       " None,\n",
       " None,\n",
       " None,\n",
       " None,\n",
       " None,\n",
       " None,\n",
       " None,\n",
       " None,\n",
       " None,\n",
       " None,\n",
       " None,\n",
       " None,\n",
       " None]"
      ]
     },
     "execution_count": 76,
     "metadata": {},
     "output_type": "execute_result"
    }
   ],
   "source": [
    "[get_info_for_code(code) for code in POSTCODES]"
   ]
  },
  {
   "cell_type": "code",
   "execution_count": 65,
   "metadata": {
    "collapsed": false
   },
   "outputs": [],
   "source": []
  }
 ],
 "metadata": {
  "kernelspec": {
   "display_name": "Python 2",
   "language": "python",
   "name": "python2"
  },
  "language_info": {
   "codemirror_mode": {
    "name": "ipython",
    "version": 2
   },
   "file_extension": ".py",
   "mimetype": "text/x-python",
   "name": "python",
   "nbconvert_exporter": "python",
   "pygments_lexer": "ipython2",
   "version": "2.7.12"
  }
 },
 "nbformat": 4,
 "nbformat_minor": 0
}
